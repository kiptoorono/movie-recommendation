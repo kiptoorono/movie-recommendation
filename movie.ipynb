{
 "cells": [
  {
   "cell_type": "code",
   "execution_count": 45,
   "metadata": {},
   "outputs": [
    {
     "name": "stdout",
     "output_type": "stream",
     "text": [
      "   movieId                               title  \\\n",
      "0        1                    Toy Story (1995)   \n",
      "1        2                      Jumanji (1995)   \n",
      "2        3             Grumpier Old Men (1995)   \n",
      "3        4            Waiting to Exhale (1995)   \n",
      "4        5  Father of the Bride Part II (1995)   \n",
      "\n",
      "                                        genres  \n",
      "0  Adventure|Animation|Children|Comedy|Fantasy  \n",
      "1                   Adventure|Children|Fantasy  \n",
      "2                               Comedy|Romance  \n",
      "3                         Comedy|Drama|Romance  \n",
      "4                                       Comedy  \n",
      "   userId  movieId  rating   timestamp\n",
      "0       1      296     5.0  1147880044\n",
      "1       1      306     3.5  1147868817\n",
      "2       1      307     5.0  1147868828\n",
      "3       1      665     5.0  1147878820\n",
      "4       1      899     3.5  1147868510\n"
     ]
    }
   ],
   "source": [
    "import pandas as pd\n",
    "\n",
    "movies=pd.read_csv(r'E:\\Python\\Movie Recomendation System\\ml-25m\\ml-25m\\movies.csv')\n",
    "ratings=pd.read_csv(r'E:\\Python\\Movie Recomendation System\\ml-25m\\ml-25m\\ratings.csv')\n",
    "\n",
    "print(movies.head())\n",
    "print(ratings.head())"
   ]
  },
  {
   "cell_type": "code",
   "execution_count": 46,
   "metadata": {},
   "outputs": [
    {
     "name": "stdout",
     "output_type": "stream",
     "text": [
      "(25000095, 4)\n",
      "   userId  movieId  rating   timestamp\n",
      "0       1      296     5.0  1147880044\n",
      "1       1      306     3.5  1147868817\n",
      "2       1      307     5.0  1147868828\n",
      "3       1      665     5.0  1147878820\n",
      "4       1      899     3.5  1147868510\n"
     ]
    }
   ],
   "source": [
    "print(ratings.shape)\n",
    "print(ratings.head())\n"
   ]
  },
  {
   "cell_type": "code",
   "execution_count": 47,
   "metadata": {},
   "outputs": [
    {
     "name": "stdout",
     "output_type": "stream",
     "text": [
      "Number of unique users in the dataset: 162541\n"
     ]
    }
   ],
   "source": [
    "unique_users = ratings['userId'].nunique()\n",
    "print(f\"Number of unique users in the dataset: {unique_users}\")\n"
   ]
  },
  {
   "cell_type": "code",
   "execution_count": 48,
   "metadata": {},
   "outputs": [
    {
     "name": "stdout",
     "output_type": "stream",
     "text": [
      "Number of unique users in the dataset: 162541\n",
      "Number of ratings per user:\n",
      "count    162541.000000\n",
      "mean        153.807932\n",
      "std         268.047590\n",
      "min          20.000000\n",
      "25%          36.000000\n",
      "50%          71.000000\n",
      "75%         162.000000\n",
      "max       32202.000000\n",
      "Name: count, dtype: float64\n"
     ]
    }
   ],
   "source": [
    "# Count of ratings per user\n",
    "ratings_per_user = ratings['userId'].value_counts()\n",
    "\n",
    "# Displaying the number of unique users and the distribution\n",
    "print(f\"Number of unique users in the dataset: {unique_users}\")\n",
    "print(f\"Number of ratings per user:\\n{ratings_per_user.describe()}\")\n"
   ]
  },
  {
   "cell_type": "code",
   "execution_count": 49,
   "metadata": {},
   "outputs": [
    {
     "name": "stdout",
     "output_type": "stream",
     "text": [
      "Number of ratings per movie:\n",
      "count    59047.000000\n",
      "mean       423.393144\n",
      "std       2477.885821\n",
      "min          1.000000\n",
      "25%          2.000000\n",
      "50%          6.000000\n",
      "75%         36.000000\n",
      "max      81491.000000\n",
      "Name: count, dtype: float64\n"
     ]
    }
   ],
   "source": [
    "# Count of ratings per movie\n",
    "ratings_per_movie = ratings['movieId'].value_counts()\n",
    "\n",
    "# Displaying the distribution of ratings per movie\n",
    "print(f\"Number of ratings per movie:\\n{ratings_per_movie.describe()}\")\n"
   ]
  },
  {
   "cell_type": "code",
   "execution_count": 6,
   "metadata": {},
   "outputs": [
    {
     "data": {
      "text/html": [
       "<div>\n",
       "<style scoped>\n",
       "    .dataframe tbody tr th:only-of-type {\n",
       "        vertical-align: middle;\n",
       "    }\n",
       "\n",
       "    .dataframe tbody tr th {\n",
       "        vertical-align: top;\n",
       "    }\n",
       "\n",
       "    .dataframe thead th {\n",
       "        text-align: right;\n",
       "    }\n",
       "</style>\n",
       "<table border=\"1\" class=\"dataframe\">\n",
       "  <thead>\n",
       "    <tr style=\"text-align: right;\">\n",
       "      <th></th>\n",
       "      <th>movieId</th>\n",
       "      <th>title</th>\n",
       "      <th>genres</th>\n",
       "      <th>clean title</th>\n",
       "    </tr>\n",
       "  </thead>\n",
       "  <tbody>\n",
       "    <tr>\n",
       "      <th>0</th>\n",
       "      <td>1</td>\n",
       "      <td>Toy Story (1995)</td>\n",
       "      <td>[Adventure, Animation, Children, Comedy, Fantasy]</td>\n",
       "      <td>Toy Story 1995</td>\n",
       "    </tr>\n",
       "    <tr>\n",
       "      <th>1</th>\n",
       "      <td>2</td>\n",
       "      <td>Jumanji (1995)</td>\n",
       "      <td>[Adventure, Children, Fantasy]</td>\n",
       "      <td>Jumanji 1995</td>\n",
       "    </tr>\n",
       "    <tr>\n",
       "      <th>2</th>\n",
       "      <td>3</td>\n",
       "      <td>Grumpier Old Men (1995)</td>\n",
       "      <td>[Comedy, Romance]</td>\n",
       "      <td>Grumpier Old Men 1995</td>\n",
       "    </tr>\n",
       "    <tr>\n",
       "      <th>3</th>\n",
       "      <td>4</td>\n",
       "      <td>Waiting to Exhale (1995)</td>\n",
       "      <td>[Comedy, Drama, Romance]</td>\n",
       "      <td>Waiting to Exhale 1995</td>\n",
       "    </tr>\n",
       "    <tr>\n",
       "      <th>4</th>\n",
       "      <td>5</td>\n",
       "      <td>Father of the Bride Part II (1995)</td>\n",
       "      <td>[Comedy]</td>\n",
       "      <td>Father of the Bride Part II 1995</td>\n",
       "    </tr>\n",
       "  </tbody>\n",
       "</table>\n",
       "</div>"
      ],
      "text/plain": [
       "   movieId                               title  \\\n",
       "0        1                    Toy Story (1995)   \n",
       "1        2                      Jumanji (1995)   \n",
       "2        3             Grumpier Old Men (1995)   \n",
       "3        4            Waiting to Exhale (1995)   \n",
       "4        5  Father of the Bride Part II (1995)   \n",
       "\n",
       "                                              genres  \\\n",
       "0  [Adventure, Animation, Children, Comedy, Fantasy]   \n",
       "1                     [Adventure, Children, Fantasy]   \n",
       "2                                  [Comedy, Romance]   \n",
       "3                           [Comedy, Drama, Romance]   \n",
       "4                                           [Comedy]   \n",
       "\n",
       "                        clean title  \n",
       "0                    Toy Story 1995  \n",
       "1                      Jumanji 1995  \n",
       "2             Grumpier Old Men 1995  \n",
       "3            Waiting to Exhale 1995  \n",
       "4  Father of the Bride Part II 1995  "
      ]
     },
     "execution_count": 6,
     "metadata": {},
     "output_type": "execute_result"
    }
   ],
   "source": [
    "# Data cleaning \n",
    "import re \n",
    "\n",
    "def clean_title(title):\n",
    "    return re.sub(\"[^a-zA-Z0-9 ]\", \"\", title)\n",
    "\n",
    "movies['clean title']=movies['title'].apply(clean_title)\n",
    "\n",
    "movies['genres']=movies['genres'].apply(lambda x: x.split('|'))\n",
    "\n",
    "movies.head()\n"
   ]
  },
  {
   "cell_type": "code",
   "execution_count": 17,
   "metadata": {},
   "outputs": [
    {
     "name": "stdout",
     "output_type": "stream",
     "text": [
      "Empty DataFrame\n",
      "Columns: [userId, movieId, rating, timestamp]\n",
      "Index: []\n"
     ]
    }
   ],
   "source": [
    "duplicate_ratings = ratings[ratings.duplicated(subset=['userId', 'movieId'], keep=False)]\n",
    "print(duplicate_ratings)\n"
   ]
  },
  {
   "cell_type": "code",
   "execution_count": 2,
   "metadata": {},
   "outputs": [
    {
     "name": "stdout",
     "output_type": "stream",
     "text": [
      "(162542, 209172)\n"
     ]
    }
   ],
   "source": [
    "import pandas as pd\n",
    "from scipy.sparse import csr_matrix\n",
    "\n",
    "# Load the ratings data (movies are already loaded from your previous code)\n",
    "movies=pd.read_csv(r'E:\\Python\\Movie Recomendation System\\ml-25m\\ml-25m\\movies.csv')\n",
    "ratings=pd.read_csv(r'E:\\Python\\Movie Recomendation System\\ml-25m\\ml-25m\\ratings.csv')\n",
    "# Create a sparse matrix from the ratings dataframe\n",
    "# Rows represent users, columns represent movies, values are the ratings\n",
    "user_movie_sparse = csr_matrix((ratings['rating'], (ratings['userId'], ratings['movieId'])))\n",
    "\n",
    "# Check the shape of the sparse matrix (this will not load the entire matrix into memory)\n",
    "print(user_movie_sparse.shape)  # Output will be (num_users, num_movies)\n"
   ]
  },
  {
   "cell_type": "code",
   "execution_count": 3,
   "metadata": {},
   "outputs": [
    {
     "name": "stderr",
     "output_type": "stream",
     "text": [
      "C:\\Users\\Rono\\AppData\\Local\\Packages\\PythonSoftwareFoundation.Python.3.11_qbz5n2kfra8p0\\LocalCache\\local-packages\\Python311\\site-packages\\sklearn\\decomposition\\_nmf.py:1759: ConvergenceWarning: Maximum number of iterations 200 reached. Increase it to improve convergence.\n",
      "  warnings.warn(\n"
     ]
    },
    {
     "name": "stdout",
     "output_type": "stream",
     "text": [
      "(162542, 20)\n",
      "(20, 209172)\n"
     ]
    }
   ],
   "source": [
    "from sklearn.decomposition import NMF\n",
    "\n",
    "# Apply NMF on the sparse matrix\n",
    "nmf_model = NMF(n_components=20, init='random', random_state=42)\n",
    "\n",
    "# Fit the NMF model\n",
    "W = nmf_model.fit_transform(user_movie_sparse)  # User feature matrix (num_users x 20)\n",
    "H = nmf_model.components_  # Movie feature matrix (20 x num_movies)\n",
    "\n",
    "print(W.shape)  # Shape: (num_users, 20)\n",
    "print(H.shape)  # Shape: (20, num_movies)\n"
   ]
  },
  {
   "cell_type": "code",
   "execution_count": 1,
   "metadata": {},
   "outputs": [
    {
     "name": "stdout",
     "output_type": "stream",
     "text": [
      "Unexpected exception formatting exception. Falling back to standard exception\n"
     ]
    },
    {
     "name": "stderr",
     "output_type": "stream",
     "text": [
      "Traceback (most recent call last):\n",
      "  File \"C:\\Users\\Rono\\AppData\\Local\\Packages\\PythonSoftwareFoundation.Python.3.11_qbz5n2kfra8p0\\LocalCache\\local-packages\\Python311\\site-packages\\IPython\\core\\interactiveshell.py\", line 3577, in run_code\n",
      "    exec(code_obj, self.user_global_ns, self.user_ns)\n",
      "  File \"C:\\Users\\Rono\\AppData\\Local\\Temp\\ipykernel_12912\\2997503861.py\", line 21, in <module>\n",
      "    recommendations = search_similar_movies('Toy Story')\n",
      "                      ^^^^^^^^^^^^^^^^^^^^^^^^^^^^^^^^^^\n",
      "  File \"C:\\Users\\Rono\\AppData\\Local\\Temp\\ipykernel_12912\\2997503861.py\", line 6, in search_similar_movies\n",
      "    movie_id = movies[movies['title'].str.contains(movie_title, case=False, na=False)].iloc[0]['movieId']\n",
      "               ^^^^^^\n",
      "NameError: name 'movies' is not defined\n",
      "\n",
      "During handling of the above exception, another exception occurred:\n",
      "\n",
      "Traceback (most recent call last):\n",
      "  File \"C:\\Users\\Rono\\AppData\\Local\\Packages\\PythonSoftwareFoundation.Python.3.11_qbz5n2kfra8p0\\LocalCache\\local-packages\\Python311\\site-packages\\IPython\\core\\interactiveshell.py\", line 2168, in showtraceback\n",
      "    stb = self.InteractiveTB.structured_traceback(\n",
      "          ^^^^^^^^^^^^^^^^^^^^^^^^^^^^^^^^^^^^^^^^\n",
      "  File \"C:\\Users\\Rono\\AppData\\Local\\Packages\\PythonSoftwareFoundation.Python.3.11_qbz5n2kfra8p0\\LocalCache\\local-packages\\Python311\\site-packages\\IPython\\core\\ultratb.py\", line 1454, in structured_traceback\n",
      "    return FormattedTB.structured_traceback(\n",
      "           ^^^^^^^^^^^^^^^^^^^^^^^^^^^^^^^^^\n",
      "  File \"C:\\Users\\Rono\\AppData\\Local\\Packages\\PythonSoftwareFoundation.Python.3.11_qbz5n2kfra8p0\\LocalCache\\local-packages\\Python311\\site-packages\\IPython\\core\\ultratb.py\", line 1345, in structured_traceback\n",
      "    return VerboseTB.structured_traceback(\n",
      "           ^^^^^^^^^^^^^^^^^^^^^^^^^^^^^^^\n",
      "  File \"C:\\Users\\Rono\\AppData\\Local\\Packages\\PythonSoftwareFoundation.Python.3.11_qbz5n2kfra8p0\\LocalCache\\local-packages\\Python311\\site-packages\\IPython\\core\\ultratb.py\", line 1192, in structured_traceback\n",
      "    formatted_exception = self.format_exception_as_a_whole(etype, evalue, etb, number_of_lines_of_context,\n",
      "                          ^^^^^^^^^^^^^^^^^^^^^^^^^^^^^^^^^^^^^^^^^^^^^^^^^^^^^^^^^^^^^^^^^^^^^^^^^^^^^^^^\n",
      "  File \"C:\\Users\\Rono\\AppData\\Local\\Packages\\PythonSoftwareFoundation.Python.3.11_qbz5n2kfra8p0\\LocalCache\\local-packages\\Python311\\site-packages\\IPython\\core\\ultratb.py\", line 1082, in format_exception_as_a_whole\n",
      "    self.get_records(etb, number_of_lines_of_context, tb_offset) if etb else []\n",
      "    ^^^^^^^^^^^^^^^^^^^^^^^^^^^^^^^^^^^^^^^^^^^^^^^^^^^^^^^^^^^^\n",
      "  File \"C:\\Users\\Rono\\AppData\\Local\\Packages\\PythonSoftwareFoundation.Python.3.11_qbz5n2kfra8p0\\LocalCache\\local-packages\\Python311\\site-packages\\IPython\\core\\ultratb.py\", line 1134, in get_records\n",
      "    style = stack_data.style_with_executing_node(style, self._tb_highlight)\n",
      "            ^^^^^^^^^^^^^^^^^^^^^^^^^^^^^^^^^^^^^^^^^^^^^^^^^^^^^^^^^^^^^^^\n",
      "  File \"C:\\Users\\Rono\\AppData\\Local\\Packages\\PythonSoftwareFoundation.Python.3.11_qbz5n2kfra8p0\\LocalCache\\local-packages\\Python311\\site-packages\\stack_data\\core.py\", line 455, in style_with_executing_node\n",
      "    class NewStyle(style):\n",
      "  File \"C:\\Users\\Rono\\AppData\\Local\\Packages\\PythonSoftwareFoundation.Python.3.11_qbz5n2kfra8p0\\LocalCache\\local-packages\\Python311\\site-packages\\pygments\\style.py\", line 91, in __new__\n",
      "    ndef[4] = colorformat(styledef[3:])\n",
      "              ^^^^^^^^^^^^^^^^^^^^^^^^^\n",
      "  File \"C:\\Users\\Rono\\AppData\\Local\\Packages\\PythonSoftwareFoundation.Python.3.11_qbz5n2kfra8p0\\LocalCache\\local-packages\\Python311\\site-packages\\pygments\\style.py\", line 58, in colorformat\n",
      "    assert False, \"wrong color format %r\" % text\n",
      "           ^^^^^\n",
      "AssertionError: wrong color format 'ansiyellow'\n"
     ]
    }
   ],
   "source": [
    "import numpy as np\n",
    "from sklearn.metrics.pairwise import cosine_similarity\n",
    "\n",
    "# Function to search for similar movies using the NMF movie features matrix\n",
    "def search_similar_movies(movie_title, num_recommendations=5):\n",
    "    movie_id = movies[movies['title'].str.contains(movie_title, case=False, na=False)].iloc[0]['movieId']\n",
    "    \n",
    "    # Get the latent feature vector for the movie\n",
    "    movie_vector = H[:, movie_id]\n",
    "    \n",
    "    # Compute cosine similarity with all other movies\n",
    "    similarity = cosine_similarity(movie_vector.reshape(1, -1), H.T).flatten()\n",
    "    \n",
    "    # Get top recommendations\n",
    "    indices = np.argpartition(similarity, -num_recommendations)[-num_recommendations:]\n",
    "    recommended_movies = movies.iloc[indices].iloc[::-1]  # Sort by similarity score\n",
    "\n",
    "    return recommended_movies[['movieId', 'title', 'genres']]\n",
    "\n",
    "# Example: Search similar movies to \"Toy Story\"\n",
    "recommendations = search_similar_movies('Toy Story')\n",
    "print(recommendations)\n"
   ]
  },
  {
   "cell_type": "code",
   "execution_count": 6,
   "metadata": {},
   "outputs": [
    {
     "name": "stdout",
     "output_type": "stream",
     "text": [
      "       movieId                                    title  \\\n",
      "13488    69712                My Sister's Keeper (2009)   \n",
      "13489    69714  Kambakkht Ishq (Incredible Love) (2009)   \n",
      "62422   209171           Women of Devil's Island (1962)   \n",
      "\n",
      "                       genres  \n",
      "13488                   Drama  \n",
      "13489   Action|Comedy|Musical  \n",
      "62422  Action|Adventure|Drama  \n"
     ]
    }
   ],
   "source": [
    "# Function to recommend movies for a specific user based on their latent factors\n",
    "def recommend_movies_for_user(user_id, num_recommendations=20):\n",
    "    # Get the user's latent feature vector\n",
    "    user_vector = W[user_id - 1]  # Adjust for 0-indexing\n",
    "    \n",
    "    # Compute similarity between the user and all movies\n",
    "    movie_scores = np.dot(H.T, user_vector)\n",
    "    \n",
    "    # Sort the scores and get top recommendations for the user\n",
    "    already_rated = ratings[ratings['userId'] == user_id]['movieId'].values\n",
    "    recommendations = np.argsort(movie_scores)[::-1]\n",
    "    \n",
    "    # Filter out movies the user has already rated\n",
    "    recommendations = [movie for movie in recommendations if movie not in already_rated][:num_recommendations]\n",
    "    \n",
    "    # Get the movie details for the recommendations\n",
    "    recommended_movies = movies[movies['movieId'].isin(recommendations)]\n",
    "    \n",
    "    return recommended_movies[['movieId', 'title', 'genres']]\n",
    "\n",
    "# Example: Recommend movies for user 1\n",
    "user_recommendations = recommend_movies_for_user(1)\n",
    "print(user_recommendations)\n"
   ]
  },
  {
   "cell_type": "code",
   "execution_count": 12,
   "metadata": {},
   "outputs": [
    {
     "name": "stdout",
     "output_type": "stream",
     "text": [
      "      movieId                                              title  \\\n",
      "4201     4306                                       Shrek (2001)   \n",
      "4780     4886                              Monsters, Inc. (2001)   \n",
      "4790     4896  Harry Potter and the Sorcerer's Stone (a.k.a. ...   \n",
      "5241     5349                                  Spider-Man (2002)   \n",
      "7742     8368    Harry Potter and the Prisoner of Azkaban (2004)   \n",
      "\n",
      "                                                 genres  \n",
      "4201  Adventure|Animation|Children|Comedy|Fantasy|Ro...  \n",
      "4780        Adventure|Animation|Children|Comedy|Fantasy  \n",
      "4790                         Adventure|Children|Fantasy  \n",
      "5241                   Action|Adventure|Sci-Fi|Thriller  \n",
      "7742                             Adventure|Fantasy|IMAX  \n"
     ]
    }
   ],
   "source": [
    "# Function to recommend movies for a specific user based on their latent factors\n",
    "def recommend_movies_for_user(user_id, num_recommendations=5):\n",
    "    # Get the user's latent feature vector\n",
    "    user_vector = W[user_id - 3]  # Adjust for 0-indexing\n",
    "    \n",
    "    # Compute similarity between the user and all movies\n",
    "    movie_scores = np.dot(H.T, user_vector)\n",
    "    \n",
    "    # Sort the scores and get top recommendations for the user\n",
    "    recommendations = np.argsort(movie_scores)[::-1]  # Sorted indices of movies by score\n",
    "    \n",
    "    # Get movies the user has already rated\n",
    "    already_rated = ratings[ratings['userId'] == user_id]['movieId'].values\n",
    "    \n",
    "    # Filter out movies the user has already rated\n",
    "    filtered_recommendations = [movie for movie in recommendations if movie not in already_rated]\n",
    "    \n",
    "    # Take the top N recommendations\n",
    "    top_recommendations = filtered_recommendations[:num_recommendations]  # Get multiple recommendations\n",
    "    \n",
    "    # Get the movie details for the recommendations\n",
    "    recommended_movies = movies[movies['movieId'].isin(top_recommendations)]\n",
    "    \n",
    "    # Ensure you're returning multiple recommendations\n",
    "    return recommended_movies[['movieId', 'title', 'genres']]\n",
    "\n",
    "# Example: Recommend 5 movies for user 1\n",
    "user_recommendations = recommend_movies_for_user(1, num_recommendations=5)\n",
    "print(user_recommendations)\n"
   ]
  },
  {
   "cell_type": "code",
   "execution_count": 16,
   "metadata": {},
   "outputs": [
    {
     "name": "stdout",
     "output_type": "stream",
     "text": [
      "User 1 has rated 70 movies.\n"
     ]
    }
   ],
   "source": [
    "# Check how many ratings user 1 has given\n",
    "user_1_ratings = ratings[ratings['userId'] == 1]\n",
    "print(f\"User 1 has rated {len(user_1_ratings)} movies.\")\n"
   ]
  },
  {
   "cell_type": "markdown",
   "metadata": {},
   "source": [
    "COMBined approach"
   ]
  },
  {
   "cell_type": "code",
   "execution_count": null,
   "metadata": {},
   "outputs": [],
   "source": [
    "import pandas as pd\n",
    "from sklearn.decomposition import NMF\n",
    "import numpy as np\n",
    "\n",
    "# Load ratings data\n",
    "ratings = pd.read_csv('path_to_ratings.csv')\n",
    "\n",
    "# Pivot the ratings data to create a user-movie matrix\n",
    "user_movie_matrix = ratings.pivot_table(index='userId', columns='movieId', values='rating', fill_value=0)\n",
    "\n",
    "# Fit the NMF model (NNMF)\n",
    "nmf = NMF(n_components=20, init='random', random_state=42)\n",
    "W = nmf.fit_transform(user_movie_matrix)  # User latent factors matrix\n",
    "H = nmf.components_  # Movie latent factors matrix\n",
    "\n",
    "# Reconstruct the full ratings matrix\n",
    "predicted_ratings = np.dot(W, H)\n",
    "\n",
    "# Create a DataFrame for predicted ratings\n",
    "predicted_ratings_df = pd.DataFrame(predicted_ratings, index=user_movie_matrix.index, columns=user_movie_matrix.columns)\n",
    "\n",
    "# Function to get top N recommendations using NNMF\n",
    "def get_nnmf_recommendations(user_id, n=10):\n",
    "    # Get user's predicted ratings for all movies\n",
    "    user_predicted_ratings = predicted_ratings_df.loc[user_id]\n",
    "    \n",
    "    # Exclude movies the user has already rated\n",
    "    rated_movies = user_movie_matrix.loc[user_id][user_movie_matrix.loc[user_id] > 0].index\n",
    "    recommendations = user_predicted_ratings.drop(rated_movies)\n",
    "    \n",
    "    # Return top N movie recommendations\n",
    "    top_recommendations = recommendations.sort_values(ascending=False).head(n)\n",
    "    return top_recommendations.index.tolist()\n",
    "\n"
   ]
  }
 ],
 "metadata": {
  "kernelspec": {
   "display_name": "Python 3",
   "language": "python",
   "name": "python3"
  },
  "language_info": {
   "codemirror_mode": {
    "name": "ipython",
    "version": 3
   },
   "file_extension": ".py",
   "mimetype": "text/x-python",
   "name": "python",
   "nbconvert_exporter": "python",
   "pygments_lexer": "ipython3",
   "version": "3.11.9"
  }
 },
 "nbformat": 4,
 "nbformat_minor": 2
}
